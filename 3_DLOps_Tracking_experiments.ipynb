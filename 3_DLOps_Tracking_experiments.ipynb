{
 "cells": [
  {
   "cell_type": "markdown",
   "metadata": {},
   "source": [
    "<h2 align=\"center\">DLOps - Tracking Experiments</h2>"
   ]
  },
  {
   "cell_type": "markdown",
   "metadata": {},
   "source": [
    "Data Scientist.: PhD.Eddy Giusepe Chirinos Isidro"
   ]
  },
  {
   "cell_type": "markdown",
   "metadata": {},
   "source": [
    "No script anterior aprendimos a executar nossos experimentos apartir de `arquivos de configuração`. Isso nos ajuda a manter um registro de todos nossos experimentos. Não entanto, isto não nos permite saber se um experimento a sido exitoso ou não. Para isso precisamos trackear as diferentes métricas que nos permite evaliar o rendimento de nossos experimentos, sabendo assim qual deles nos dá os resultados que procuramos."
   ]
  },
  {
   "cell_type": "markdown",
   "metadata": {},
   "source": [
    "# Tensorboard"
   ]
  },
  {
   "cell_type": "markdown",
   "metadata": {},
   "source": [
    "Por default `Pytorch Lightning` usa uma ferramenta chamada `Tensorboard` para trackear os resultados dos experimentos. Esta ferramenta nos permite visualizar os resultados dos experimentos numa forma simples. Ademais, graças a sua integração com `VSCode`, podemos visualizar os resultados dos experimentos em uma aba de nosso editor de texto sem necessidade de trocar de ferramenta. Para isso, simplesmente temos que ativar a variável `logger` em nosso treinamento.\n",
    "\n",
    "No arquivo de configuração `002.yml` simplesmente adicionar o seguinte conteúdo:\n",
    "\n",
    "```\n",
    "trainer:\n",
    "  logger: True\n",
    "```\n",
    "\n",
    "Agora podemos executar o treinamento com o comando:\n",
    "\n",
    "```\n",
    "python main.py experiments/002.yml\n",
    "```\n",
    "\n",
    "Observarás que se criará uma pasta chamada `lightning_logs`, e em `VSCode` sairá um popup para abrir `Tensorboard`. Senão, sempre poderás abrir a \"paleta de comandos\" (`CTRL + SHIFT + P`) e escrever `tensorboard`. Verifica sempre de selecionar a pasta `lightning_logs`.\n",
    "\n",
    "\n",
    "Teus experimentos se irão salvando de maneira automática e poderás compará-los entre sim em qualquer momento."
   ]
  },
  {
   "cell_type": "markdown",
   "metadata": {},
   "source": [
    "# CSV logger"
   ]
  },
  {
   "cell_type": "markdown",
   "metadata": {},
   "source": [
    "`Pytorch Lightning` nos oferece a opção de definir outros sistemas de `loggeado`. Um muito útil consiste em salvar os resultados dos experimentos em um arquivo `CSV` local, para logo carregar e visualizar. Para isso podemos modificar nosso script de Treinamento: "
   ]
  },
  {
   "cell_type": "code",
   "execution_count": null,
   "metadata": {},
   "outputs": [],
   "source": [
    "from src import *\n",
    "from pathlib import Path\n",
    "import pytorch_lightning as pl\n",
    "import yaml\n",
    "import sys\n",
    "\n",
    "config = {\n",
    "    'datamodule': {\n",
    "        'path': Path('dataset'),\n",
    "        'batch_size': 25\n",
    "    },\n",
    "    'trainer': {\n",
    "        'max_epochs': 10,\n",
    "        'enable_checkpointing': False,\n",
    "        'overfit_batches': 0\n",
    "    },\n",
    "    'logger': None,\n",
    "}\n",
    "\n",
    "\n",
    "def train(config):\n",
    "    dm = MNISTDataModule(**config['datamodule'])\n",
    "    module = MNISTModule(config)\n",
    "    # configure logger\n",
    "    if config['logger'] is not None:\n",
    "        config['trainer']['logger'] = getattr(pl.loggers, config['logger'])(\n",
    "            **config['logger_params'])\n",
    "    trainer = pl.Trainer(**config['trainer'])\n",
    "    trainer.fit(module, dm)\n",
    "    trainer.save_checkpoint('final.ckpt')\n",
    "\n",
    "\n",
    "if __name__ == '__main__':\n",
    "    if len(sys.argv) > 1:\n",
    "        config_file = sys.argv[1]\n",
    "        if config_file:\n",
    "            with open(config_file, 'r') as stream:\n",
    "                loaded_config = yaml.safe_load(stream)\n",
    "            deep_update(config, loaded_config)\n",
    "    print(config)\n",
    "    train(config)"
   ]
  },
  {
   "cell_type": "markdown",
   "metadata": {},
   "source": [
    "E no experimento `003.yml` adicionamos o seguinte conteúdo:\n",
    "\n",
    "```\n",
    "logger: CSVLogger\n",
    "logger_params:\n",
    "  save_dir: logs\n",
    "  name: \"003\"\n",
    "```  \n",
    "\n",
    "Ao executar o experimento se criará uma pasta `logs` na qual teremos outra pasta com o nome `003` na qual se irão salvando os logs de cada execução do experimento. Obviamente, você pode trocar isto com os parâmetros que desejes. "
   ]
  },
  {
   "cell_type": "code",
   "execution_count": null,
   "metadata": {},
   "outputs": [],
   "source": [
    "import pandas as pd \n",
    "\n",
    "logs = pd.read_csv('logs/003/version_0/metrics.csv')\n",
    "\n",
    "logs"
   ]
  },
  {
   "cell_type": "markdown",
   "metadata": {},
   "source": [
    "![](sen_1.png)"
   ]
  },
  {
   "cell_type": "code",
   "execution_count": null,
   "metadata": {},
   "outputs": [],
   "source": [
    "import matplotlib.pyplot as plt\n",
    "\n",
    "fig = plt.figure(figsize=(6, 3))\n",
    "ax = plt.subplot(1,2,1)\n",
    "logs['val_loss'].dropna().plot(ax=ax)\n",
    "logs['loss'].dropna().plot(ax=ax)\n",
    "ax.legend(['val_loss', 'loss'])\n",
    "ax.grid(True)\n",
    "ax = plt.subplot(1,2,2)\n",
    "logs['val_acc'].dropna().plot(ax=ax)\n",
    "logs['acc'].dropna().plot(ax=ax)\n",
    "ax.legend(['val_acc', 'acc'])\n",
    "ax.grid(True)\n",
    "plt.tight_layout()\n",
    "plt.show()"
   ]
  },
  {
   "cell_type": "markdown",
   "metadata": {},
   "source": [
    "![](sen_2.png)"
   ]
  },
  {
   "cell_type": "markdown",
   "metadata": {},
   "source": [
    "Isto é muito útil quando se trabalha de maneira isolada localmente, não entanto se trabalhas de maneira colaborativa podes ter os logs na nuvem e accesíveis através da internet é muito melhor."
   ]
  },
  {
   "cell_type": "markdown",
   "metadata": {},
   "source": [
    "# Weights and Biases"
   ]
  },
  {
   "cell_type": "markdown",
   "metadata": {},
   "source": [
    "Minha opção mais bacana para `trackear` experimentos é "
   ]
  },
  {
   "cell_type": "code",
   "execution_count": null,
   "metadata": {},
   "outputs": [],
   "source": []
  },
  {
   "cell_type": "code",
   "execution_count": null,
   "metadata": {},
   "outputs": [],
   "source": []
  },
  {
   "cell_type": "code",
   "execution_count": null,
   "metadata": {},
   "outputs": [],
   "source": []
  },
  {
   "cell_type": "code",
   "execution_count": null,
   "metadata": {},
   "outputs": [],
   "source": []
  },
  {
   "cell_type": "code",
   "execution_count": null,
   "metadata": {},
   "outputs": [],
   "source": []
  },
  {
   "cell_type": "code",
   "execution_count": null,
   "metadata": {},
   "outputs": [],
   "source": []
  },
  {
   "cell_type": "code",
   "execution_count": null,
   "metadata": {},
   "outputs": [],
   "source": []
  },
  {
   "cell_type": "code",
   "execution_count": null,
   "metadata": {},
   "outputs": [],
   "source": []
  }
 ],
 "metadata": {
  "kernelspec": {
   "display_name": "Python 3.8.10 64-bit",
   "language": "python",
   "name": "python3"
  },
  "language_info": {
   "codemirror_mode": {
    "name": "ipython",
    "version": 3
   },
   "file_extension": ".py",
   "mimetype": "text/x-python",
   "name": "python",
   "nbconvert_exporter": "python",
   "pygments_lexer": "ipython3",
   "version": "3.8.10"
  },
  "orig_nbformat": 4,
  "vscode": {
   "interpreter": {
    "hash": "916dbcbb3f70747c44a77c7bcd40155683ae19c65e1c03b4aa3499c5328201f1"
   }
  }
 },
 "nbformat": 4,
 "nbformat_minor": 2
}
