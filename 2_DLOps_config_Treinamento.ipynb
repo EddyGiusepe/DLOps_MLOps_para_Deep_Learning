{
 "cells": [
  {
   "cell_type": "markdown",
   "metadata": {},
   "source": [
    "# <h2 align=\"center\">DLOps - Configuração</h2>"
   ]
  },
  {
   "cell_type": "markdown",
   "metadata": {},
   "source": [
    "Data Scientist.: Dr.Eddy Giusepe Chirinos Isidro"
   ]
  },
  {
   "cell_type": "markdown",
   "metadata": {},
   "source": [
    "Já temos uma idea do que é `DLOps` e como podemos versionar Datasets. Agora vamos treinar nossos primeiros modelos. Para essa tarefa usaremos a Biblioteca de [Pytorch Lightning](https://pytorch-lightning.readthedocs.io/en/latest/), uma biblioteca de código aberto que nos permite treinar modelos por acima de [Pytorch](https://pytorch.org/) oferecendo muitíssimas funcionalidades extras que nos fará a vida mais fácil na hora de treinar e gerenciar nossos modelos.\n"
   ]
  },
  {
   "cell_type": "markdown",
   "metadata": {},
   "source": [
    "# Primeiro Treinamento"
   ]
  },
  {
   "cell_type": "markdown",
   "metadata": {},
   "source": [
    "O seguinte código nos permite treinar um primeiro modelo com o Dataset `MNIST` que foi desenvolvido no script anterior. Como vimos, empezaremos fazendo um `classificador binário` simples que detecte apenas o dígito $3$ (mais para frente usaremos todo o Dataset para Classificação Multiclasse, aprendendo pelo caminho como gerar novas versões do Dataset e receitas de treinamento). O modelo que usaremos será um <font color=\"yellow\">Perceptron Multicapa simples</font>.    "
   ]
  },
  {
   "cell_type": "code",
   "execution_count": 16,
   "metadata": {},
   "outputs": [
    {
     "name": "stdout",
     "output_type": "stream",
     "text": [
      "/home/eddygiusepe/.local/lib/python3.8/site-packages/pkg_resources/__init__.py:123: PkgResourcesDeprecationWarning: 0.1.36ubuntu1 is an invalid version and will not be supported in a future release\n",
      "  warnings.warn(\n",
      "/home/eddygiusepe/.local/lib/python3.8/site-packages/pkg_resources/__init__.py:123: PkgResourcesDeprecationWarning: 0.23ubuntu1 is an invalid version and will not be supported in a future release\n",
      "  warnings.warn(\n",
      "Requirement already satisfied: pytorch_lightning in /home/eddygiusepe/.local/lib/python3.8/site-packages (1.7.7)\n",
      "Requirement already satisfied: numpy>=1.17.2 in /home/eddygiusepe/.local/lib/python3.8/site-packages (from pytorch_lightning) (1.23.3)\n",
      "Requirement already satisfied: torch>=1.9.* in /home/eddygiusepe/.local/lib/python3.8/site-packages (from pytorch_lightning) (1.10.2)\n",
      "Requirement already satisfied: tqdm>=4.57.0 in /home/eddygiusepe/.local/lib/python3.8/site-packages (from pytorch_lightning) (4.64.1)\n",
      "Requirement already satisfied: PyYAML>=5.4 in /home/eddygiusepe/.local/lib/python3.8/site-packages (from pytorch_lightning) (6.0)\n",
      "Requirement already satisfied: fsspec[http]!=2021.06.0,>=2021.05.0 in /home/eddygiusepe/.local/lib/python3.8/site-packages (from pytorch_lightning) (2022.8.2)\n",
      "Requirement already satisfied: tensorboard>=2.9.1 in /home/eddygiusepe/.local/lib/python3.8/site-packages (from pytorch_lightning) (2.10.1)\n",
      "Requirement already satisfied: torchmetrics>=0.7.0 in /home/eddygiusepe/.local/lib/python3.8/site-packages (from pytorch_lightning) (0.10.0)\n",
      "Requirement already satisfied: pyDeprecate>=0.3.1 in /home/eddygiusepe/.local/lib/python3.8/site-packages (from pytorch_lightning) (0.3.2)\n",
      "Requirement already satisfied: packaging>=17.0 in /home/eddygiusepe/.local/lib/python3.8/site-packages (from pytorch_lightning) (21.3)\n",
      "Requirement already satisfied: typing-extensions>=4.0.0 in /home/eddygiusepe/.local/lib/python3.8/site-packages (from pytorch_lightning) (4.4.0)\n",
      "Requirement already satisfied: requests; extra == \"http\" in /home/eddygiusepe/.local/lib/python3.8/site-packages (from fsspec[http]!=2021.06.0,>=2021.05.0->pytorch_lightning) (2.28.1)\n",
      "Requirement already satisfied: aiohttp!=4.0.0a0,!=4.0.0a1; extra == \"http\" in /home/eddygiusepe/.local/lib/python3.8/site-packages (from fsspec[http]!=2021.06.0,>=2021.05.0->pytorch_lightning) (3.8.1)\n",
      "Requirement already satisfied: absl-py>=0.4 in /home/eddygiusepe/.local/lib/python3.8/site-packages (from tensorboard>=2.9.1->pytorch_lightning) (0.13.0)\n",
      "Requirement already satisfied: grpcio>=1.24.3 in /home/eddygiusepe/.local/lib/python3.8/site-packages (from tensorboard>=2.9.1->pytorch_lightning) (1.38.1)\n",
      "Requirement already satisfied: google-auth<3,>=1.6.3 in /home/eddygiusepe/.local/lib/python3.8/site-packages (from tensorboard>=2.9.1->pytorch_lightning) (2.11.0)\n",
      "Requirement already satisfied: google-auth-oauthlib<0.5,>=0.4.1 in /home/eddygiusepe/.local/lib/python3.8/site-packages (from tensorboard>=2.9.1->pytorch_lightning) (0.4.4)\n",
      "Requirement already satisfied: markdown>=2.6.8 in /home/eddygiusepe/.local/lib/python3.8/site-packages (from tensorboard>=2.9.1->pytorch_lightning) (3.3.4)\n",
      "Requirement already satisfied: protobuf<3.20,>=3.9.2 in /home/eddygiusepe/.local/lib/python3.8/site-packages (from tensorboard>=2.9.1->pytorch_lightning) (3.19.6)\n",
      "Requirement already satisfied: setuptools>=41.0.0 in /home/eddygiusepe/.local/lib/python3.8/site-packages (from tensorboard>=2.9.1->pytorch_lightning) (65.3.0)\n",
      "Requirement already satisfied: tensorboard-data-server<0.7.0,>=0.6.0 in /home/eddygiusepe/.local/lib/python3.8/site-packages (from tensorboard>=2.9.1->pytorch_lightning) (0.6.1)\n",
      "Requirement already satisfied: tensorboard-plugin-wit>=1.6.0 in /home/eddygiusepe/.local/lib/python3.8/site-packages (from tensorboard>=2.9.1->pytorch_lightning) (1.8.0)\n",
      "Requirement already satisfied: werkzeug>=1.0.1 in /home/eddygiusepe/.local/lib/python3.8/site-packages (from tensorboard>=2.9.1->pytorch_lightning) (2.0.1)\n",
      "Requirement already satisfied: wheel>=0.26 in /usr/lib/python3/dist-packages (from tensorboard>=2.9.1->pytorch_lightning) (0.34.2)\n",
      "Requirement already satisfied: pyparsing!=3.0.5,>=2.0.2 in /home/eddygiusepe/.local/lib/python3.8/site-packages (from packaging>=17.0->pytorch_lightning) (3.0.9)\n",
      "Requirement already satisfied: charset-normalizer<3,>=2 in /home/eddygiusepe/.local/lib/python3.8/site-packages (from requests; extra == \"http\"->fsspec[http]!=2021.06.0,>=2021.05.0->pytorch_lightning) (2.1.1)\n",
      "Requirement already satisfied: idna<4,>=2.5 in /home/eddygiusepe/.local/lib/python3.8/site-packages (from requests; extra == \"http\"->fsspec[http]!=2021.06.0,>=2021.05.0->pytorch_lightning) (3.4)\n",
      "Requirement already satisfied: urllib3<1.27,>=1.21.1 in /home/eddygiusepe/.local/lib/python3.8/site-packages (from requests; extra == \"http\"->fsspec[http]!=2021.06.0,>=2021.05.0->pytorch_lightning) (1.26.12)\n",
      "Requirement already satisfied: certifi>=2017.4.17 in /home/eddygiusepe/.local/lib/python3.8/site-packages (from requests; extra == \"http\"->fsspec[http]!=2021.06.0,>=2021.05.0->pytorch_lightning) (2022.9.24)\n",
      "Requirement already satisfied: attrs>=17.3.0 in /home/eddygiusepe/.local/lib/python3.8/site-packages (from aiohttp!=4.0.0a0,!=4.0.0a1; extra == \"http\"->fsspec[http]!=2021.06.0,>=2021.05.0->pytorch_lightning) (22.1.0)\n",
      "Requirement already satisfied: multidict<7.0,>=4.5 in /home/eddygiusepe/.local/lib/python3.8/site-packages (from aiohttp!=4.0.0a0,!=4.0.0a1; extra == \"http\"->fsspec[http]!=2021.06.0,>=2021.05.0->pytorch_lightning) (6.0.2)\n",
      "Requirement already satisfied: async-timeout<5.0,>=4.0.0a3 in /home/eddygiusepe/.local/lib/python3.8/site-packages (from aiohttp!=4.0.0a0,!=4.0.0a1; extra == \"http\"->fsspec[http]!=2021.06.0,>=2021.05.0->pytorch_lightning) (4.0.2)\n",
      "Requirement already satisfied: yarl<2.0,>=1.0 in /home/eddygiusepe/.local/lib/python3.8/site-packages (from aiohttp!=4.0.0a0,!=4.0.0a1; extra == \"http\"->fsspec[http]!=2021.06.0,>=2021.05.0->pytorch_lightning) (1.8.1)\n",
      "Requirement already satisfied: frozenlist>=1.1.1 in /home/eddygiusepe/.local/lib/python3.8/site-packages (from aiohttp!=4.0.0a0,!=4.0.0a1; extra == \"http\"->fsspec[http]!=2021.06.0,>=2021.05.0->pytorch_lightning) (1.3.1)\n",
      "Requirement already satisfied: aiosignal>=1.1.2 in /home/eddygiusepe/.local/lib/python3.8/site-packages (from aiohttp!=4.0.0a0,!=4.0.0a1; extra == \"http\"->fsspec[http]!=2021.06.0,>=2021.05.0->pytorch_lightning) (1.2.0)\n",
      "Requirement already satisfied: six in /home/eddygiusepe/.local/lib/python3.8/site-packages (from absl-py>=0.4->tensorboard>=2.9.1->pytorch_lightning) (1.16.0)\n",
      "Requirement already satisfied: cachetools<6.0,>=2.0.0 in /home/eddygiusepe/.local/lib/python3.8/site-packages (from google-auth<3,>=1.6.3->tensorboard>=2.9.1->pytorch_lightning) (5.2.0)\n",
      "Requirement already satisfied: pyasn1-modules>=0.2.1 in /home/eddygiusepe/.local/lib/python3.8/site-packages (from google-auth<3,>=1.6.3->tensorboard>=2.9.1->pytorch_lightning) (0.2.8)\n",
      "Requirement already satisfied: rsa<5,>=3.1.4; python_version >= \"3.6\" in /home/eddygiusepe/.local/lib/python3.8/site-packages (from google-auth<3,>=1.6.3->tensorboard>=2.9.1->pytorch_lightning) (4.9)\n",
      "Requirement already satisfied: requests-oauthlib>=0.7.0 in /home/eddygiusepe/.local/lib/python3.8/site-packages (from google-auth-oauthlib<0.5,>=0.4.1->tensorboard>=2.9.1->pytorch_lightning) (1.3.0)\n",
      "Requirement already satisfied: pyasn1<0.5.0,>=0.4.6 in /home/eddygiusepe/.local/lib/python3.8/site-packages (from pyasn1-modules>=0.2.1->google-auth<3,>=1.6.3->tensorboard>=2.9.1->pytorch_lightning) (0.4.8)\n",
      "Requirement already satisfied: oauthlib>=3.0.0 in /usr/lib/python3/dist-packages (from requests-oauthlib>=0.7.0->google-auth-oauthlib<0.5,>=0.4.1->tensorboard>=2.9.1->pytorch_lightning) (3.1.0)\n"
     ]
    }
   ],
   "source": [
    "!pip install pytorch_lightning"
   ]
  },
  {
   "cell_type": "code",
   "execution_count": 17,
   "metadata": {},
   "outputs": [],
   "source": [
    "# Importando as nossas bibliotecas\n",
    "\n",
    "import pytorch_lightning as pl \n",
    "from torch.utils.data import Dataset, DataLoader\n",
    "from skimage.io import imread\n",
    "import torch \n",
    "import pandas as pd\n",
    "from glob import glob"
   ]
  },
  {
   "cell_type": "code",
   "execution_count": 18,
   "metadata": {},
   "outputs": [],
   "source": [
    "# Definimos nosso Dataset --> MNIST\n",
    "\n",
    "class MSNITDataset(Dataset):\n",
    "    def __init__(self, images, labels):\n",
    "        self.images = images\n",
    "        self.labels = labels\n",
    "\n",
    "    def __len__(self): # Para saber quantas imagens temos\n",
    "        return len(self.images)\n",
    "    # Este método pega a imagem e traz ela com a sua respectiva Label\n",
    "    def __getitem__(self, idx):\n",
    "        img = imread(self.images[idx])\n",
    "        return torch.from_numpy(img), self.labels[idx]\n"
   ]
  },
  {
   "cell_type": "code",
   "execution_count": 19,
   "metadata": {},
   "outputs": [],
   "source": [
    "# Aqui processamos nossos Dados\n",
    "\n",
    "class MNISTDataModule(pl.LightningDataModule):\n",
    "    def __init__(self, path, batch_size):\n",
    "        super().__init__()\n",
    "        self.path = path\n",
    "        self.batch_size = batch_size\n",
    "    def generate_df(self, l1, l2):\n",
    "        return pd.DataFrame({\n",
    "            'image': l1 + l2, \n",
    "            'label': [1] * len(l1) + [0] * len(l2)\n",
    "        })\n",
    "    def setup(self, stage = None):\n",
    "        train_3 = glob(str(self.path / 'train' / '3' / '*.png'))\n",
    "        train_no3 = glob(str(self.path / 'train' / 'no3' / '*.png'))\n",
    "        self.train_df = self.generate_df(train_3, train_no3)\n",
    "        test_3 = glob(str(self.path / 'test' / '3' / '*.png'))\n",
    "        test_no3 = glob(str(self.path / 'test' / 'no3' / '*.png'))\n",
    "        self.test_df = self.generate_df(test_3, test_no3)\n",
    "        self.train_ds = MSNITDataset(self.train_df.image.values, self.train_df.label.values)\n",
    "        self.test_ds = MSNITDataset(self.test_df.image.values, self.test_df.label.values)\n",
    "    def train_dataloader(self):\n",
    "        return DataLoader(self.train_ds, shuffle=True, batch_size=self.batch_size)\n",
    "    def val_dataloader(self, batch_size=None, shuffle=False):\n",
    "        return DataLoader(\n",
    "            self.test_ds, \n",
    "            batch_size=self.batch_size if batch_size is None else batch_size,\n",
    "            shuffle=shuffle\n",
    "        )"
   ]
  },
  {
   "cell_type": "code",
   "execution_count": 20,
   "metadata": {},
   "outputs": [
    {
     "data": {
      "text/plain": [
       "(torch.Size([25, 28, 28]),\n",
       " torch.uint8,\n",
       " tensor(255, dtype=torch.uint8),\n",
       " tensor(0, dtype=torch.uint8),\n",
       " torch.Size([25]))"
      ]
     },
     "execution_count": 20,
     "metadata": {},
     "output_type": "execute_result"
    }
   ],
   "source": [
    "from pathlib import Path\n",
    "\n",
    "\n",
    "path = Path('dataset')\n",
    "\n",
    "dm = MNISTDataModule(path, batch_size=25)\n",
    "dm.setup()\n",
    "\n",
    "imgs, labels = next(iter(dm.train_dataloader()))\n",
    "\n",
    "imgs.shape, imgs.dtype, imgs.max(), imgs.min(), labels.shape"
   ]
  },
  {
   "cell_type": "code",
   "execution_count": 21,
   "metadata": {},
   "outputs": [
    {
     "data": {
      "image/png": "[encoded data removed]",
      "text/plain": [
       "<Figure size 432x288 with 25 Axes>"
      ]
     },
     "metadata": {
      "needs_background": "light"
     },
     "output_type": "display_data"
    }
   ],
   "source": [
    "import matplotlib.pyplot as plt\n",
    "%matplotlib inline\n",
    "\n",
    "\n",
    "r, c = 5, 5 \n",
    "fig, axs = plt.subplots(r, c)\n",
    "imgs, labels = next(iter(dm.train_dataloader()))\n",
    "for i in range(r):\n",
    "    for j in range(c):\n",
    "        axs[i, j].imshow(imgs[i * c + j], cmap='gray')\n",
    "        axs[i, j].set_title(labels[i * c + j].item())\n",
    "        axs[i, j].axis('off')\n",
    "plt.tight_layout()\n",
    "plt.show()\n",
    "\n",
    "# Label = 1 --> Quando o dígito é 3\n",
    "# Label = 0 --> Quando o dígito não é 3"
   ]
  },
  {
   "cell_type": "code",
   "execution_count": 22,
   "metadata": {},
   "outputs": [],
   "source": [
    "import torch.nn as nn\n",
    "import torch.nn.functional as F\n",
    "\n",
    "\n",
    "class MNISTModule(pl.LightningModule):\n",
    "    \n",
    "    # Aqui contruímos a nossa REDE NEURAL simples --> MLP\n",
    "    def __init__(self):\n",
    "        super().__init__()\n",
    "        self.mlp = nn.Sequential(\n",
    "            nn.Linear(28 * 28, 100), # Conecta todos os pixels da Imagem com 100 neurônios\n",
    "            nn.ReLU(), # Função de Ativação\n",
    "            nn.Linear(100, 1) # 100 neurônios na capa oculta e com uma saída\n",
    "        )\n",
    "    \n",
    "    # Recebe a imagem e a normaliza\n",
    "    def forward(self, x):\n",
    "        x = x.float() / 255 \n",
    "        return self.mlp(x.view(x.size(0), -1)).squeeze(-1)\n",
    "    \n",
    "    # Para fazer predições\n",
    "    def predict(self, x):\n",
    "        self.eval()\n",
    "        with torch.no_grad():\n",
    "            return torch.sigmoid(self(x)) # valor entre zero e um --> Sigmoide\n",
    "\n",
    "    def training_step(self, batch, batch_idx):\n",
    "        x, y = batch\n",
    "        y_hat = self(x)\n",
    "        loss = F.binary_cross_entropy_with_logits(y_hat, y.float()) # Função de perda\n",
    "        preds = torch.sigmoid(y_hat) > 0.5\n",
    "        acc = (preds.long() == y).float().mean()\n",
    "        self.log('acc', acc, prog_bar=True)\n",
    "        return loss\n",
    "\n",
    "    def validation_step(self, batch, batch_idx):\n",
    "        x, y = batch\n",
    "        y_hat = self(x)\n",
    "        loss = F.binary_cross_entropy_with_logits(y_hat, y.float())\n",
    "        preds = torch.sigmoid(y_hat) > 0.5\n",
    "        acc = (preds.long() == y).float().mean() # Usaremos apenas accuracy\n",
    "        self.log('val_loss', loss, prog_bar=True)\n",
    "        self.log('val_acc', acc, prog_bar=True)\n",
    "\n",
    "    def configure_optimizers(self):\n",
    "        return torch.optim.Adam(self.parameters())"
   ]
  },
  {
   "cell_type": "markdown",
   "metadata": {},
   "source": [
    "<font color=\"orange\">Visualizamos as camadas de nossa Rede Neural Simples:</font>"
   ]
  },
  {
   "cell_type": "code",
   "execution_count": 23,
   "metadata": {},
   "outputs": [
    {
     "data": {
      "text/plain": [
       "MNISTModule(\n",
       "  (mlp): Sequential(\n",
       "    (0): Linear(in_features=784, out_features=100, bias=True)\n",
       "    (1): ReLU()\n",
       "    (2): Linear(in_features=100, out_features=1, bias=True)\n",
       "  )\n",
       ")"
      ]
     },
     "execution_count": 23,
     "metadata": {},
     "output_type": "execute_result"
    }
   ],
   "source": [
    "module = MNISTModule()\n",
    "module"
   ]
  },
  {
   "cell_type": "code",
   "execution_count": 24,
   "metadata": {},
   "outputs": [
    {
     "data": {
      "text/plain": [
       "torch.Size([25])"
      ]
     },
     "execution_count": 24,
     "metadata": {},
     "output_type": "execute_result"
    }
   ],
   "source": [
    "output = module(imgs)\n",
    "output.shape"
   ]
  },
  {
   "cell_type": "code",
   "execution_count": 26,
   "metadata": {},
   "outputs": [
    {
     "name": "stderr",
     "output_type": "stream",
     "text": [
      "GPU available: False, used: False\n",
      "TPU available: False, using: 0 TPU cores\n",
      "IPU available: False, using: 0 IPUs\n",
      "HPU available: False, using: 0 HPUs\n",
      "\n",
      "  | Name | Type       | Params\n",
      "------------------------------------\n",
      "0 | mlp  | Sequential | 78.6 K\n",
      "------------------------------------\n",
      "78.6 K    Trainable params\n",
      "0         Non-trainable params\n",
      "78.6 K    Total params\n",
      "0.314     Total estimated model params size (MB)\n"
     ]
    },
    {
     "data": {
      "application/vnd.jupyter.widget-view+json": {
       "model_id": "f68e4b1656884ab6a491c3c3c1dee08c",
       "version_major": 2,
       "version_minor": 0
      },
      "text/plain": [
       "Sanity Checking: 0it [00:00, ?it/s]"
      ]
     },
     "metadata": {},
     "output_type": "display_data"
    },
    {
     "data": {
      "application/vnd.jupyter.widget-view+json": {
       "model_id": "944ecde4130d43b4b12e9699578ce842",
       "version_major": 2,
       "version_minor": 0
      },
      "text/plain": [
       "Training: 0it [00:00, ?it/s]"
      ]
     },
     "metadata": {},
     "output_type": "display_data"
    },
    {
     "data": {
      "application/vnd.jupyter.widget-view+json": {
       "model_id": "d16952893f5e4fe29cc8a8bf2a1ed8e2",
       "version_major": 2,
       "version_minor": 0
      },
      "text/plain": [
       "Validation: 0it [00:00, ?it/s]"
      ]
     },
     "metadata": {},
     "output_type": "display_data"
    },
    {
     "data": {
      "application/vnd.jupyter.widget-view+json": {
       "model_id": "791b2def2ef74b4cae027e2742fad6c5",
       "version_major": 2,
       "version_minor": 0
      },
      "text/plain": [
       "Validation: 0it [00:00, ?it/s]"
      ]
     },
     "metadata": {},
     "output_type": "display_data"
    },
    {
     "data": {
      "application/vnd.jupyter.widget-view+json": {
       "model_id": "0d9375bfe8f74cf09278e1fe69579c11",
       "version_major": 2,
       "version_minor": 0
      },
      "text/plain": [
       "Validation: 0it [00:00, ?it/s]"
      ]
     },
     "metadata": {},
     "output_type": "display_data"
    },
    {
     "data": {
      "application/vnd.jupyter.widget-view+json": {
       "model_id": "f015ad0ccdaf44d68d3db2573b091383",
       "version_major": 2,
       "version_minor": 0
      },
      "text/plain": [
       "Validation: 0it [00:00, ?it/s]"
      ]
     },
     "metadata": {},
     "output_type": "display_data"
    },
    {
     "data": {
      "application/vnd.jupyter.widget-view+json": {
       "model_id": "236a5665608542cbbd074ac8a46e99d1",
       "version_major": 2,
       "version_minor": 0
      },
      "text/plain": [
       "Validation: 0it [00:00, ?it/s]"
      ]
     },
     "metadata": {},
     "output_type": "display_data"
    },
    {
     "data": {
      "application/vnd.jupyter.widget-view+json": {
       "model_id": "2657afddc7be44d88bfd8615a8cc0b21",
       "version_major": 2,
       "version_minor": 0
      },
      "text/plain": [
       "Validation: 0it [00:00, ?it/s]"
      ]
     },
     "metadata": {},
     "output_type": "display_data"
    },
    {
     "data": {
      "application/vnd.jupyter.widget-view+json": {
       "model_id": "7853bfd9ccfa485cbb237aec620d07ba",
       "version_major": 2,
       "version_minor": 0
      },
      "text/plain": [
       "Validation: 0it [00:00, ?it/s]"
      ]
     },
     "metadata": {},
     "output_type": "display_data"
    },
    {
     "data": {
      "application/vnd.jupyter.widget-view+json": {
       "model_id": "6732a57596ba48d0a56df0f1e29ea2e4",
       "version_major": 2,
       "version_minor": 0
      },
      "text/plain": [
       "Validation: 0it [00:00, ?it/s]"
      ]
     },
     "metadata": {},
     "output_type": "display_data"
    },
    {
     "data": {
      "application/vnd.jupyter.widget-view+json": {
       "model_id": "e2e714b938604024aeeb959eb7009791",
       "version_major": 2,
       "version_minor": 0
      },
      "text/plain": [
       "Validation: 0it [00:00, ?it/s]"
      ]
     },
     "metadata": {},
     "output_type": "display_data"
    },
    {
     "data": {
      "application/vnd.jupyter.widget-view+json": {
       "model_id": "b340e2446f73442e9f622937054bcf16",
       "version_major": 2,
       "version_minor": 0
      },
      "text/plain": [
       "Validation: 0it [00:00, ?it/s]"
      ]
     },
     "metadata": {},
     "output_type": "display_data"
    },
    {
     "name": "stderr",
     "output_type": "stream",
     "text": [
      "`Trainer.fit` stopped: `max_epochs=10` reached.\n"
     ]
    }
   ],
   "source": [
    "dm = MNISTDataModule(path, batch_size=25)\n",
    "module = MNISTModule()\n",
    "trainer = pl.Trainer(\n",
    "    max_epochs=10,\n",
    "    logger=None,\n",
    "    enable_checkpointing=False,\n",
    "    # overfit_batches=1, # Isto é recomendado. Ele vai aprender o Batch que você passar.\n",
    ")\n",
    "\n",
    "\n",
    "trainer.fit(module, dm)"
   ]
  },
  {
   "cell_type": "code",
   "execution_count": 27,
   "metadata": {},
   "outputs": [
    {
     "data": {
      "image/png": "[encoded data removed]",
      "text/plain": [
       "<Figure size 432x288 with 25 Axes>"
      ]
     },
     "metadata": {
      "needs_background": "light"
     },
     "output_type": "display_data"
    }
   ],
   "source": [
    "r, c = 5, 5 \n",
    "fig, axs = plt.subplots(r, c)\n",
    "imgs, labels = next(iter(dm.val_dataloader(25, True)))\n",
    "preds = module.predict(imgs) > 0.5\n",
    "for i in range(r):\n",
    "    for j in range(c):\n",
    "        axs[i, j].imshow(imgs[i * c + j], cmap='gray')\n",
    "        label = labels[i * c + j].item()\n",
    "        pred = preds[i * c + j].long().item()\n",
    "        axs[i, j].set_title(f'{label}/{pred}', color = 'green' if label == pred else 'red')\n",
    "        axs[i, j].axis('off')\n",
    "plt.tight_layout()\n",
    "plt.show()"
   ]
  },
  {
   "cell_type": "markdown",
   "metadata": {},
   "source": [
    "# Script de Treinamento"
   ]
  },
  {
   "cell_type": "markdown",
   "metadata": {},
   "source": [
    "Usar Notebooks é muito útil na hora de explorar nossos Dados e provar alguns modelos, mas na hora de escalar o treinamento precisaremos utilizar `script no Python`. Para isso te recomendo a seguinte distribuição de arquivos e pastas:\n",
    "\n",
    "<font color=\"yellow\">#############################################</font>\n",
    "* `main.py` : contém o arquivo de treinamento\n",
    "\n",
    "* `src` : contém os arquivos de código de Pytorch Lightning\n",
    "\n",
    "    * `dm.py` : contém o LightningDataModule\n",
    "\n",
    "    * `module.py` : contém o LightningModule\n",
    "\n",
    "<font color=\"yellow\">#############################################</font>\n",
    "\n",
    "\n",
    "Para nosso primeiro caso é suficiente, mas a medida que um projeto vaja crescendo é possível que você queira adiconar arquivos na pasta `src`, <font color=\"orange\">por exemplo</font> para separar os Datasets e modelos ou adicionar funcionalidades extra em um arquivo `utils.py`.\n",
    "\n",
    "\n",
    "A seguir temos o código de treinamento (conteúdo do arquivo `main.py`)\n"
   ]
  },
  {
   "cell_type": "code",
   "execution_count": null,
   "metadata": {},
   "outputs": [],
   "source": [
    "from src import *\n",
    "from pathlib import Path\n",
    "import pytorch_lightning as pl\n",
    "\n",
    "path = Path('dataset')\n",
    "dm = MNISTDataModule(path, batch_size=25)\n",
    "module = MNISTModule()\n",
    "\n",
    "trainer = pl.Trainer(\n",
    "    max_epochs=10,\n",
    "    logger=None,\n",
    "    enable_checkpointing=False,\n",
    "    # overfit_batches=1,\n",
    ")\n",
    "\n",
    "\n",
    "trainer.fit(module, dm)"
   ]
  },
  {
   "cell_type": "markdown",
   "metadata": {},
   "source": [
    "O arquivo `main.py` pode ser executado, assim:\n",
    "\n",
    "```\n",
    "python main.py\n",
    "```\n",
    "\n",
    "Isto treinará nosso modelo da mesma maneira que fizemos anteriormente. No entanto, isto não muito útil já que sempre treinaremos o mesmo modelo (o qual nem sequer estamos salvando). Precisamos dotar de flexibilidade a nosso `script` ademais de quer `trackear` todo o vamos fazendo. Isto é possível usando um arquivo de `configuração`. \n"
   ]
  },
  {
   "cell_type": "markdown",
   "metadata": {},
   "source": [
    "# Arquivo de `configuração`"
   ]
  },
  {
   "cell_type": "markdown",
   "metadata": {},
   "source": [
    "Existe diferentes opções na hora de executar treinamentos com arquivos de configuração. Uma biblioteca bastante utilizada é [Hydra](https://hydra.cc/docs/intro/). Neste script seguirei a metodologia do `Data Scientist SENSIO`."
   ]
  },
  {
   "cell_type": "markdown",
   "metadata": {},
   "source": [
    "## Configuração base"
   ]
  },
  {
   "cell_type": "markdown",
   "metadata": {},
   "source": [
    "O primeiro que precisamos é uma configuração base na que definiremos todos os parâmetros por default que queremos usar em nosso treinamento. "
   ]
  },
  {
   "cell_type": "code",
   "execution_count": null,
   "metadata": {},
   "outputs": [],
   "source": [
    "config = {\n",
    "    'datamodule': {\n",
    "        'path': Path('dataset'),\n",
    "        'batch_size': 25\n",
    "    },\n",
    "    'trainer': {\n",
    "        'max_epochs': 10,\n",
    "        'logger': None,\n",
    "        'enable_checkpointing': False,\n",
    "        'overfit_batches': 0\n",
    "    }\n",
    "}\n",
    "\n",
    "dm = MNISTDataModule(**config['datamodule'])\n",
    "module = MNISTModule()\n",
    "trainer = pl.Trainer(**config['trainer'])\n",
    "\n",
    "\n",
    "trainer.fit(module, dm)"
   ]
  },
  {
   "cell_type": "markdown",
   "metadata": {},
   "source": [
    "Usando o operador `**` pdoemos passar um dicionário de parâmetros a uma função.\n",
    "\n",
    "<font color=\"pink\">OBS:\n",
    "\n",
    "Eu recomendo não usar parâmetros por defeito em teus `modules`, já que isto pode provocar problemas a longo prazo. É um pouco mais tedioso porém vale a pena para `trackear` todos os parâmetros usados no treinamento. \n",
    "</font>"
   ]
  },
  {
   "cell_type": "markdown",
   "metadata": {},
   "source": [
    "# Sobreescrever a configuração base"
   ]
  },
  {
   "cell_type": "markdown",
   "metadata": {},
   "source": [
    "Agora o que faremos será criar um arquivo `config.yml` que contenha a configuração que queremos usar em nosso treinamento. Para não ter que escrever todo o código de configuração, simplesmente definiremos aqueles parâmetros que modificar da configuração base. Desta maneira, nosso projeto ficará assim:\n",
    "\n",
    "<font color=\"yellow\">#############################################</font>\n",
    "* `main.py` : contém o arquivo de treinamento\n",
    "\n",
    "* `config.yml` : contém a configuração de treinamento\n",
    "\n",
    "* `src` : contém os arquivos de código de Pytorch Lightning\n",
    "\n",
    "    * `dm.py` : contém o LightningDataModule\n",
    "\n",
    "    * `module.py` : contém o LightningModule\n",
    "\n",
    "    * `utils.py` : contém funções úteis\n",
    "\n",
    "<font color=\"yellow\">#############################################</font>\n",
    "\n",
    "\n",
    "O seguinte exemplo fará um treinamento com mais `epochs` e com um `batch_size` mais grande:\n",
    "\n",
    "```\n",
    "datamodule:\n",
    "  batch_size: 32\n",
    "\n",
    "trainer:\n",
    "  max_epochs: 20\n",
    "```  \n",
    "\n",
    "Em nosso script de treinamento, simplesmente carregaremos a configuração do arquivo, sobreescrevendo a configuração base e executaremos o treinamento."
   ]
  },
  {
   "cell_type": "code",
   "execution_count": null,
   "metadata": {},
   "outputs": [],
   "source": [
    "from src import *\n",
    "from pathlib import Path\n",
    "import pytorch_lightning as pl\n",
    "import yaml\n",
    "import sys\n",
    "\n",
    "config = {\n",
    "    'datamodule': {\n",
    "        'path': Path('dataset'),\n",
    "        'batch_size': 25\n",
    "    },\n",
    "    'trainer': {\n",
    "        'max_epochs': 10,\n",
    "        'logger': None,\n",
    "        'enable_checkpointing': False,\n",
    "        'overfit_batches': 0\n",
    "    }\n",
    "}\n",
    "\n",
    "\n",
    "def train(config):\n",
    "    dm = MNISTDataModule(**config['datamodule'])\n",
    "    module = MNISTModule()\n",
    "    trainer = pl.Trainer(**config['trainer'])\n",
    "    trainer.fit(module, dm)\n",
    "\n",
    "\n",
    "if __name__ == '__main__':\n",
    "    if len(sys.argv) > 1:\n",
    "        config_file = sys.argv[1]\n",
    "        if config_file:\n",
    "            with open(config_file, 'r') as stream:\n",
    "                loaded_config = yaml.safe_load(stream)\n",
    "            deep_update(config, loaded_config)\n",
    "    print(config)\n",
    "    train(config)"
   ]
  },
  {
   "cell_type": "markdown",
   "metadata": {},
   "source": [
    "# Gerando diferentes experimentos"
   ]
  },
  {
   "cell_type": "markdown",
   "metadata": {},
   "source": [
    "Com este `setup` já temos todo o necessário para gerar diferentes experimentos. Simplesmente faremos um arquivo de configuração novo para cada experimento que desejemos executar. Desta maneira, sempre teremos na mão os hiperparâmetros usados em um treinamento para poder comparar resultados e ficar com os melhores. Um projeto típico terá a seguinte estrutura:\n",
    "\n",
    "- `main.py` : contém o código de treinamento.\n",
    "\n",
    "- `src` : contém os arquivos de código de Pytorch Lightning.\n",
    "\n",
    "    - `dm.py` : contém o LightningDataModule.\n",
    "\n",
    "    - `module.py` : contém o LightningModule.\n",
    "\n",
    "    - `utils.py` : contém funções úteis.\n",
    "\n",
    "- `experiments` : contém os arquivos de configuraço dos experimentos.\n",
    "\n",
    "    - `001.yml` : contém a configuração do treinamento 1.\n",
    "    - `002.yml` : contém a configuração do treinamento 2.\n",
    "    - `003.yml` : contém a configuração do treinamento 3.\n",
    "    - ...\n",
    "    - `debug.yml` : contém a configuração do treinamento para debug.\n",
    "\n",
    "> Eu aconselho ter um arquivo de `debug.yml` o qual te permitirá fazer o fit de uns batches para comprovar que teu código funciona bem.\n",
    "\n",
    "\n",
    "Pode executar os experimentos com o comando:\n",
    "\n",
    "```\n",
    "python main.py experiments/001.yml\n",
    "```\n",
    "\n",
    "\n",
    "\n",
    "\n",
    "\n",
    "\n"
   ]
  },
  {
   "cell_type": "markdown",
   "metadata": {},
   "source": [
    "# Conselhos finais "
   ]
  },
  {
   "cell_type": "markdown",
   "metadata": {},
   "source": [
    "Para ter o máximo de proveito de nosso sistema de configuração, te aconselho usar uma funcionalidade de `Pytorch Lightning` muito útil, que é a de salvar os hiperparâmetros no mesmo `checkpoint` do modelo."
   ]
  },
  {
   "cell_type": "code",
   "execution_count": null,
   "metadata": {},
   "outputs": [],
   "source": [
    "class MNISTModule(pl.LightningModule):\n",
    "    def __init__(self, hparams):\n",
    "        super().__init__()\n",
    "        self.save_hyperparameters(hparams)\n",
    "        # ..."
   ]
  },
  {
   "cell_type": "markdown",
   "metadata": {},
   "source": [
    "Desta maneira, ao carregar qualquer modelo que hajas treinado com este sistema, poderás acessar aos hiperparâmetros que usaste no treinamento."
   ]
  },
  {
   "cell_type": "code",
   "execution_count": null,
   "metadata": {},
   "outputs": [],
   "source": [
    "# ...\n",
    "\n",
    "def train(config):\n",
    "    dm = MNISTDataModule(**config['datamodule'])\n",
    "    module = MNISTModule(config)\n",
    "    trainer = pl.Trainer(**config['trainer'])\n",
    "    trainer.fit(module, dm)\n",
    "    trainer.save_checkpoint('final.ckpt')\n",
    "\n",
    "# ..."
   ]
  },
  {
   "cell_type": "code",
   "execution_count": null,
   "metadata": {},
   "outputs": [],
   "source": [
    "from src import MNISTModule\n",
    "\n",
    "module = MNISTModule.load_from_checkpoint('final.ckpt')\n",
    "module.hparams"
   ]
  },
  {
   "cell_type": "markdown",
   "metadata": {},
   "source": [
    "No seguinte script veremos como melhorar nosso script de treinamento para adicionar funcionalidades interessantes no ciclo de DLOPs tais como `trackear` os resultados dos experimentos de maneira efetiva, salvar e versionar os modelos treinados para poder colocá-los em produção."
   ]
  }
 ],
 "metadata": {
  "kernelspec": {
   "display_name": "Python 3.8.10 64-bit",
   "language": "python",
   "name": "python3"
  },
  "language_info": {
   "codemirror_mode": {
    "name": "ipython",
    "version": 3
   },
   "file_extension": ".py",
   "mimetype": "text/x-python",
   "name": "python",
   "nbconvert_exporter": "python",
   "pygments_lexer": "ipython3",
   "version": "3.8.10"
  },
  "orig_nbformat": 4,
  "vscode": {
   "interpreter": {
    "hash": "916dbcbb3f70747c44a77c7bcd40155683ae19c65e1c03b4aa3499c5328201f1"
   }
  }
 },
 "nbformat": 4,
 "nbformat_minor": 2
}
