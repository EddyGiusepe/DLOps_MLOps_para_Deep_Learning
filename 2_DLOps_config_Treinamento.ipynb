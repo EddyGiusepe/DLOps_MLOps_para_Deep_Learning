{
 "cells": [
  {
   "cell_type": "markdown",
   "metadata": {},
   "source": [
    "# <h2 align=\"center\">DLOps - Configuração<h2>"
   ]
  },
  {
   "cell_type": "markdown",
   "metadata": {},
   "source": [
    "Data Scientist.: PhD.Eddy Giusepe Chirinos Isidro"
   ]
  },
  {
   "cell_type": "markdown",
   "metadata": {},
   "source": [
    "Como já sabemos o que é DLOps, como versionar nosso Dataset, agora vamos treinar nossos primeiros modelos. Para essa tarefa vamos a usar a biblioteca de [Pytorch Lightning](https://pytorch-lightning.readthedocs.io/en/latest/), a qual é uma biblioteca de código aberto que nos permite treinar modelos por acima de [Pytorch](https://pytorch.org/) oferecendo muitíssima funcionalidade extra que nos fará a vida mais fácil à hora de treinar e gerenciar nossos modelos.  "
   ]
  },
  {
   "cell_type": "markdown",
   "metadata": {},
   "source": [
    "# Primeiro treinamento"
   ]
  },
  {
   "cell_type": "markdown",
   "metadata": {},
   "source": [
    "O seguinte código nos permite treinar um primeiro modelo com o Dataset [MNIST](http://yann.lecun.com/exdb/mnist/). Vamos começar com um classificador binário simples que detecte apenas o dígito $3$ (mais para frente usaremos todo o Dataset para uma classificação Multiclasse, aprendendo pelo caminho como gerar novas versões do Dataset e receitas do treinamento). O modelo que usaremos será um Perceptron Multicapa (MLP) simples."
   ]
  },
  {
   "cell_type": "code",
   "execution_count": 2,
   "metadata": {},
   "outputs": [],
   "source": [
    "# Importando as nossas bibliotecas \n",
    "\n",
    "import pytorch_lightning as pl \n",
    "from torch.utils.data import Dataset, DataLoader\n",
    "from skimage.io import imread\n",
    "import torch \n",
    "import pandas as pd\n",
    "from glob import glob"
   ]
  },
  {
   "cell_type": "code",
   "execution_count": 3,
   "metadata": {},
   "outputs": [],
   "source": [
    "class MSNITDataset(Dataset):\n",
    "    def __init__(self, images, labels):\n",
    "        self.images = images\n",
    "        self.labels = labels\n",
    "    def __len__(self):\n",
    "        return len(self.images)\n",
    "    def __getitem__(self, idx):\n",
    "        img = imread(self.images[idx])\n",
    "        return torch.from_numpy(img), self.labels[idx]"
   ]
  },
  {
   "cell_type": "code",
   "execution_count": 4,
   "metadata": {},
   "outputs": [],
   "source": [
    "class MNISTDataModule(pl.LightningDataModule):\n",
    "    def __init__(self, path, batch_size):\n",
    "        super().__init__()\n",
    "        self.path = path\n",
    "        self.batch_size = batch_size\n",
    "    def generate_df(self, l1, l2):\n",
    "        return pd.DataFrame({\n",
    "            'image': l1 + l2, \n",
    "            'label': [1] * len(l1) + [0] * len(l2)\n",
    "        })\n",
    "    def setup(self, stage = None):\n",
    "        train_3 = glob(str(self.path / 'train' / '3' / '*.png'))\n",
    "        train_no3 = glob(str(self.path / 'train' / 'no3' / '*.png'))\n",
    "        self.train_df = self.generate_df(train_3, train_no3)\n",
    "        test_3 = glob(str(self.path / 'test' / '3' / '*.png'))\n",
    "        test_no3 = glob(str(self.path / 'test' / 'no3' / '*.png'))\n",
    "        self.test_df = self.generate_df(test_3, test_no3)\n",
    "        self.train_ds = MSNITDataset(self.train_df.image.values, self.train_df.label.values)\n",
    "        self.test_ds = MSNITDataset(self.test_df.image.values, self.test_df.label.values)\n",
    "    def train_dataloader(self):\n",
    "        return DataLoader(self.train_ds, shuffle=True, batch_size=self.batch_size)\n",
    "    def val_dataloader(self, batch_size=None, shuffle=False):\n",
    "        return DataLoader(\n",
    "            self.test_ds, \n",
    "            batch_size=self.batch_size if batch_size is None else batch_size,\n",
    "            shuffle=shuffle\n",
    "        )\n"
   ]
  },
  {
   "cell_type": "code",
   "execution_count": 6,
   "metadata": {},
   "outputs": [
    {
     "data": {
      "text/plain": [
       "(torch.Size([25, 28, 28]),\n",
       " torch.uint8,\n",
       " tensor(255, dtype=torch.uint8),\n",
       " tensor(0, dtype=torch.uint8),\n",
       " torch.Size([25]))"
      ]
     },
     "execution_count": 6,
     "metadata": {},
     "output_type": "execute_result"
    }
   ],
   "source": [
    "from pathlib import Path\n",
    "\n",
    "path = Path('dataset')\n",
    "\n",
    "dm = MNISTDataModule(path, batch_size=25)\n",
    "dm.setup()\n",
    "\n",
    "imgs, labels = next(iter(dm.train_dataloader()))\n",
    "\n",
    "imgs.shape, imgs.dtype, imgs.max(), imgs.min(), labels.shape"
   ]
  },
  {
   "cell_type": "code",
   "execution_count": 7,
   "metadata": {},
   "outputs": [
    {
     "data": {
      "image/png": "[encoded data removed]",
      "text/plain": [
       "<Figure size 432x288 with 25 Axes>"
      ]
     },
     "metadata": {
      "needs_background": "light"
     },
     "output_type": "display_data"
    }
   ],
   "source": [
    "import matplotlib.pyplot as plt\n",
    "\n",
    "r, c = 5, 5 \n",
    "fig, axs = plt.subplots(r, c)\n",
    "imgs, labels = next(iter(dm.train_dataloader()))\n",
    "for i in range(r):\n",
    "    for j in range(c):\n",
    "        axs[i, j].imshow(imgs[i * c + j], cmap='gray')\n",
    "        axs[i, j].set_title(labels[i * c + j].item())\n",
    "        axs[i, j].axis('off')\n",
    "plt.tight_layout()\n",
    "plt.show()"
   ]
  },
  {
   "cell_type": "code",
   "execution_count": 8,
   "metadata": {},
   "outputs": [],
   "source": [
    "import torch.nn as nn\n",
    "import torch.nn.functional as F\n",
    "\n",
    "\n",
    "\n",
    "class MNISTModule(pl.LightningModule):\n",
    "    def __init__(self):\n",
    "        super().__init__()\n",
    "        self.mlp = nn.Sequential(\n",
    "            nn.Linear(28 * 28, 100),\n",
    "            nn.ReLU(),\n",
    "            nn.Linear(100, 1)\n",
    "        )\n",
    "\n",
    "    def forward(self, x):\n",
    "        x = x.float() / 255 \n",
    "        return self.mlp(x.view(x.size(0), -1)).squeeze(-1)\n",
    "\n",
    "    def predict(self, x):\n",
    "        self.eval()\n",
    "        with torch.no_grad():\n",
    "            return torch.sigmoid(self(x))\n",
    "\n",
    "    def training_step(self, batch, batch_idx):\n",
    "        x, y = batch\n",
    "        y_hat = self(x)\n",
    "        loss = F.binary_cross_entropy_with_logits(y_hat, y.float())\n",
    "        preds = torch.sigmoid(y_hat) > 0.5\n",
    "        acc = (preds.long() == y).float().mean()\n",
    "        self.log('acc', acc, prog_bar=True)\n",
    "        return loss\n",
    "\n",
    "    def validation_step(self, batch, batch_idx):\n",
    "        x, y = batch\n",
    "        y_hat = self(x)\n",
    "        loss = F.binary_cross_entropy_with_logits(y_hat, y.float())\n",
    "        preds = torch.sigmoid(y_hat) > 0.5\n",
    "        acc = (preds.long() == y).float().mean()\n",
    "        self.log('val_loss', loss, prog_bar=True)\n",
    "        self.log('val_acc', acc, prog_bar=True)\n",
    "\n",
    "    def configure_optimizers(self):\n",
    "        return torch.optim.Adam(self.parameters())"
   ]
  },
  {
   "cell_type": "code",
   "execution_count": 9,
   "metadata": {},
   "outputs": [
    {
     "data": {
      "text/plain": [
       "MNISTModule(\n",
       "  (mlp): Sequential(\n",
       "    (0): Linear(in_features=784, out_features=100, bias=True)\n",
       "    (1): ReLU()\n",
       "    (2): Linear(in_features=100, out_features=1, bias=True)\n",
       "  )\n",
       ")"
      ]
     },
     "execution_count": 9,
     "metadata": {},
     "output_type": "execute_result"
    }
   ],
   "source": [
    "module = MNISTModule()\n",
    "module"
   ]
  },
  {
   "cell_type": "code",
   "execution_count": 10,
   "metadata": {},
   "outputs": [
    {
     "data": {
      "text/plain": [
       "torch.Size([25])"
      ]
     },
     "execution_count": 10,
     "metadata": {},
     "output_type": "execute_result"
    }
   ],
   "source": [
    "output = module(imgs)\n",
    "output.shape"
   ]
  },
  {
   "cell_type": "code",
   "execution_count": 12,
   "metadata": {},
   "outputs": [
    {
     "name": "stderr",
     "output_type": "stream",
     "text": [
      "GPU available: False, used: False\n",
      "TPU available: False, using: 0 TPU cores\n",
      "IPU available: False, using: 0 IPUs\n",
      "HPU available: False, using: 0 HPUs\n",
      "\n",
      "  | Name | Type       | Params\n",
      "------------------------------------\n",
      "0 | mlp  | Sequential | 78.6 K\n",
      "------------------------------------\n",
      "78.6 K    Trainable params\n",
      "0         Non-trainable params\n",
      "78.6 K    Total params\n",
      "0.314     Total estimated model params size (MB)\n"
     ]
    },
    {
     "data": {
      "application/vnd.jupyter.widget-view+json": {
       "model_id": "a241561a642a4211a002ed5ac99cd468",
       "version_major": 2,
       "version_minor": 0
      },
      "text/plain": [
       "Sanity Checking: 0it [00:00, ?it/s]"
      ]
     },
     "metadata": {},
     "output_type": "display_data"
    },
    {
     "data": {
      "application/vnd.jupyter.widget-view+json": {
       "model_id": "b536f65fa79040e79d475cdc79fd381b",
       "version_major": 2,
       "version_minor": 0
      },
      "text/plain": [
       "Training: 0it [00:00, ?it/s]"
      ]
     },
     "metadata": {},
     "output_type": "display_data"
    },
    {
     "data": {
      "application/vnd.jupyter.widget-view+json": {
       "model_id": "4ca57f21b28e4bdd8bbc4d972a82d9a8",
       "version_major": 2,
       "version_minor": 0
      },
      "text/plain": [
       "Validation: 0it [00:00, ?it/s]"
      ]
     },
     "metadata": {},
     "output_type": "display_data"
    },
    {
     "data": {
      "application/vnd.jupyter.widget-view+json": {
       "model_id": "2a9471ab6b0e4df1b23a6e5d60893914",
       "version_major": 2,
       "version_minor": 0
      },
      "text/plain": [
       "Validation: 0it [00:00, ?it/s]"
      ]
     },
     "metadata": {},
     "output_type": "display_data"
    },
    {
     "data": {
      "application/vnd.jupyter.widget-view+json": {
       "model_id": "9b6da6d2b5bc43698cdc90f321ff66b3",
       "version_major": 2,
       "version_minor": 0
      },
      "text/plain": [
       "Validation: 0it [00:00, ?it/s]"
      ]
     },
     "metadata": {},
     "output_type": "display_data"
    },
    {
     "data": {
      "application/vnd.jupyter.widget-view+json": {
       "model_id": "0fe611bfa02e4f1faef77bbb3547964c",
       "version_major": 2,
       "version_minor": 0
      },
      "text/plain": [
       "Validation: 0it [00:00, ?it/s]"
      ]
     },
     "metadata": {},
     "output_type": "display_data"
    },
    {
     "data": {
      "application/vnd.jupyter.widget-view+json": {
       "model_id": "c869bdb578404c688077372a952d9bcd",
       "version_major": 2,
       "version_minor": 0
      },
      "text/plain": [
       "Validation: 0it [00:00, ?it/s]"
      ]
     },
     "metadata": {},
     "output_type": "display_data"
    },
    {
     "data": {
      "application/vnd.jupyter.widget-view+json": {
       "model_id": "a67b9e9983f54d6f9afa40755520da33",
       "version_major": 2,
       "version_minor": 0
      },
      "text/plain": [
       "Validation: 0it [00:00, ?it/s]"
      ]
     },
     "metadata": {},
     "output_type": "display_data"
    },
    {
     "data": {
      "application/vnd.jupyter.widget-view+json": {
       "model_id": "abffaaf9b1da4c3fa7318c42d0ae8981",
       "version_major": 2,
       "version_minor": 0
      },
      "text/plain": [
       "Validation: 0it [00:00, ?it/s]"
      ]
     },
     "metadata": {},
     "output_type": "display_data"
    },
    {
     "data": {
      "application/vnd.jupyter.widget-view+json": {
       "model_id": "f1c1eaf35a19414d9eff452413b1f7d9",
       "version_major": 2,
       "version_minor": 0
      },
      "text/plain": [
       "Validation: 0it [00:00, ?it/s]"
      ]
     },
     "metadata": {},
     "output_type": "display_data"
    },
    {
     "data": {
      "application/vnd.jupyter.widget-view+json": {
       "model_id": "bc40dd267b3d427a914f2563d1979354",
       "version_major": 2,
       "version_minor": 0
      },
      "text/plain": [
       "Validation: 0it [00:00, ?it/s]"
      ]
     },
     "metadata": {},
     "output_type": "display_data"
    },
    {
     "data": {
      "application/vnd.jupyter.widget-view+json": {
       "model_id": "3c70e53050694f0a8ba6e6a9fb1d856a",
       "version_major": 2,
       "version_minor": 0
      },
      "text/plain": [
       "Validation: 0it [00:00, ?it/s]"
      ]
     },
     "metadata": {},
     "output_type": "display_data"
    },
    {
     "name": "stderr",
     "output_type": "stream",
     "text": [
      "`Trainer.fit` stopped: `max_epochs=10` reached.\n"
     ]
    }
   ],
   "source": [
    "dm = MNISTDataModule(path, batch_size=25)\n",
    "module = MNISTModule()\n",
    "trainer = pl.Trainer(\n",
    "    max_epochs=10,\n",
    "    logger=None,\n",
    "    enable_checkpointing=False,\n",
    "    # overfit_batches=1,\n",
    ")\n",
    "\n",
    "\n",
    "\n",
    "trainer.fit(module, dm)"
   ]
  },
  {
   "cell_type": "markdown",
   "metadata": {},
   "source": [
    "Tal como mostra a célula anterior durante $10$ épocas, conseguimos um modelo com um $95\\%$ de acuracy nos Dados de test."
   ]
  },
  {
   "cell_type": "code",
   "execution_count": 13,
   "metadata": {},
   "outputs": [
    {
     "data": {
      "image/png": "[encoded data removed]",
      "text/plain": [
       "<Figure size 432x288 with 25 Axes>"
      ]
     },
     "metadata": {
      "needs_background": "light"
     },
     "output_type": "display_data"
    }
   ],
   "source": [
    "r, c = 5, 5 \n",
    "fig, axs = plt.subplots(r, c)\n",
    "imgs, labels = next(iter(dm.val_dataloader(25, True)))\n",
    "preds = module.predict(imgs) > 0.5\n",
    "for i in range(r):\n",
    "    for j in range(c):\n",
    "        axs[i, j].imshow(imgs[i * c + j], cmap='gray')\n",
    "        label = labels[i * c + j].item()\n",
    "        pred = preds[i * c + j].long().item()\n",
    "        axs[i, j].set_title(f'{label}/{pred}', color = 'green' if label == pred else 'red')\n",
    "        axs[i, j].axis('off')\n",
    "plt.tight_layout()\n",
    "plt.show()\n"
   ]
  },
  {
   "cell_type": "markdown",
   "metadata": {},
   "source": [
    "# Script de Treinamento"
   ]
  },
  {
   "cell_type": "markdown",
   "metadata": {},
   "source": [
    "É necessário usar `scripts de Python` para escalar o treinamento. Para isso podemos seguir a seguinte distribuição:\n",
    "\n",
    "* `main.py`: contém o código de treinamento\n",
    "\n",
    "* `src`: contém os arquivos de código de Pytorch Lightning\n",
    "\n",
    "    * `dm`: contém o LightningDataModule\n",
    "\n",
    "    * `module`: contém o LightningModule\n",
    "\n",
    "Para nosso primeiro caso é suficiente, mas a medida que um projeto vaja cescrendo é possível que seja necessário ir adicionando arquivos na pasta `src`, *por exemplo:* para separar os Datasets e modelos ou adicionar funcionalidades extras num arquivo `utils.py`.   \n",
    "\n",
    "A seguir temos o código de treinamento (conteúdo do arquivo `main.py`)\n",
    "\n",
    "\n"
   ]
  },
  {
   "cell_type": "code",
   "execution_count": null,
   "metadata": {},
   "outputs": [],
   "source": [
    "from src import *\n",
    "from pathlib import Path\n",
    "import pytorch_lightning as pl\n",
    "\n",
    "path = Path('dataset')\n",
    "dm = MNISTDataModule(path, batch_size=25)\n",
    "module = MNISTModule()\n",
    "trainer = pl.Trainer(\n",
    "    max_epochs=10,\n",
    "    logger=None,\n",
    "    enable_checkpointing=False,\n",
    "    # overfit_batches=1,\n",
    ")\n",
    "trainer.fit(module, dm)"
   ]
  },
  {
   "cell_type": "markdown",
   "metadata": {},
   "source": [
    "Que pode ser executado com o comando:\n",
    "\n",
    "```\n",
    "python main.py\n",
    "```"
   ]
  },
  {
   "cell_type": "markdown",
   "metadata": {},
   "source": [
    "Isto treinará nosso modelo da mesma maneira que vimos anteriormente. No entanto, isto é muito útil já que sempre treinaremos o mesmo modelo (o qual ainda não estamos salvando). Precisaremos dotar de flexibilidade a nosso `script` ademais de querer `trackear` todo o que vamos fazendo. Isto será possível com um arquivo de `configuração`.\n"
   ]
  },
  {
   "cell_type": "markdown",
   "metadata": {},
   "source": [
    "# Arquivo de configuração"
   ]
  },
  {
   "cell_type": "markdown",
   "metadata": {},
   "source": [
    "Existem diferentes alternativas à hora de executar treinamentos com arquivos de configuração. Uma biblioteca bastante utilizada é [Hydra](https://hydra.cc/docs/intro/). Mas aqui usaremos a minha maneira que até agora sempre me funcionou bem."
   ]
  },
  {
   "cell_type": "markdown",
   "metadata": {},
   "source": [
    "## Configuração base"
   ]
  },
  {
   "cell_type": "markdown",
   "metadata": {},
   "source": [
    "O primeiro que precisamos é uma configuração base na que definiremos todos os parâmetros por defeito que queremos usar em nosso treinamento."
   ]
  },
  {
   "cell_type": "code",
   "execution_count": null,
   "metadata": {},
   "outputs": [],
   "source": [
    "config = {\n",
    "    'datamodule': {\n",
    "        'path': Path('dataset'),\n",
    "        'batch_size': 25\n",
    "    },\n",
    "    'trainer': {\n",
    "        'max_epochs': 10,\n",
    "        'logger': None,\n",
    "        'enable_checkpointing': False,\n",
    "        'overfit_batches': 0\n",
    "    }\n",
    "}\n",
    "\n",
    "dm = MNISTDataModule(**config['datamodule'])\n",
    "module = MNISTModule()\n",
    "trainer = pl.Trainer(**config['trainer'])\n",
    "trainer.fit(module, dm)"
   ]
  },
  {
   "cell_type": "markdown",
   "metadata": {},
   "source": [
    "Utilizando o operador `**` podemos passar um dicionário de parâmetros a uma função.\n",
    "\n",
    "> Te recomendo não usar parâmetros por defeito em teus `modules`, já que isto pode causar problemas a longo prazo. É um pouco mais tedioso mas vale a pena para `trackear` todos os parâmetros usados no treinamento."
   ]
  },
  {
   "cell_type": "markdown",
   "metadata": {},
   "source": [
    "# Sobrescrever a configuração base"
   ]
  },
  {
   "cell_type": "markdown",
   "metadata": {},
   "source": [
    "Agora o que faremos será criar um arquivo de `config.yml` que contenha a configuração que queremos usar em nosso treinamento. Para não ter que escrever todo o código de configuração, simplesmente definiremos aqueles parâmetros que queremos modificar da configuração base. Desta maneira, nosso projeto ficará assim:\n",
    "\n",
    "\n",
    "- `main.py`: contém o código de treinamento\n",
    "- `config.yml`: contém a configuração do treinamento\n",
    "- `src`: contém os arquivos do código de Pytorch Lightning\n",
    "    - `dm.py`: contém o LightningDataModule\n",
    "    - `module.py`: contém o LightningModule\n",
    "    - `utils.py`: contém funções úteis\n",
    "\n",
    "o seguinte exemplo fará um treinamento durante mais epochs e com um `batch_size` mais grande.\n",
    "\n",
    "```\n",
    "datamodule:\n",
    "  batch_size: 32\n",
    "\n",
    "trainer:\n",
    "  max_epochs: 20\n",
    "```"
   ]
  },
  {
   "cell_type": "code",
   "execution_count": null,
   "metadata": {},
   "outputs": [],
   "source": []
  },
  {
   "cell_type": "code",
   "execution_count": null,
   "metadata": {},
   "outputs": [],
   "source": []
  }
 ],
 "metadata": {
  "kernelspec": {
   "display_name": "Python 3.8.10 64-bit",
   "language": "python",
   "name": "python3"
  },
  "language_info": {
   "codemirror_mode": {
    "name": "ipython",
    "version": 3
   },
   "file_extension": ".py",
   "mimetype": "text/x-python",
   "name": "python",
   "nbconvert_exporter": "python",
   "pygments_lexer": "ipython3",
   "version": "3.8.10"
  },
  "orig_nbformat": 4,
  "vscode": {
   "interpreter": {
    "hash": "916dbcbb3f70747c44a77c7bcd40155683ae19c65e1c03b4aa3499c5328201f1"
   }
  }
 },
 "nbformat": 4,
 "nbformat_minor": 2
}
